{
 "cells": [
  {
   "cell_type": "markdown",
   "id": "dd52e76c",
   "metadata": {},
   "source": [
    "### 2. **Gráficos para Visualización de Datos**\n",
    "**Resumen:** La visualización de datos es clave para identificar patrones y relaciones entre diferentes variables. Los gráficos apropiados pueden proporcionar información valiosa sobre el comportamiento de los precios y volúmenes de ventas."
   ]
  },
  {
   "cell_type": "markdown",
   "id": "09d1fafd",
   "metadata": {},
   "source": [
    "1. **Gráfico de Violín de Volumen de Ventas por Región:**\n",
    "   - **Uso de Datos:** Usa las columnas `Total Volume` y `region`.\n",
    "   - **Esperado:** Visualiza la distribución de ventas en diferentes regiones.\n",
    "     - Utiliza la función `violinplot` de `seaborn` para crear gráficos de violín.\n",
    "     - Configura los ejes para mostrar la relación entre `Total Volume` y `region`.\n",
    "     - Añade etiquetas y títulos usando `plt.title()` y `plt.xlabel()` para facilitar la interpretación."
   ]
  },
  {
   "cell_type": "code",
   "execution_count": null,
   "id": "cc6a93fb",
   "metadata": {},
   "outputs": [],
   "source": [
    "import pandas as pd\n",
    "import numpy as np\n",
    "import seaborn as sns\n",
    "import matplotlib.pyplot as plt\n",
    "from statsmodels.tsa.seasonal import seasonal_decompose\n",
    "\n",
    "df = pd.read_csv(\"avocado.csv\")\n",
    "df_cp = df.copy()\n",
    "df_cp['Date'] = pd.to_datetime(df_cp['Date'])\n",
    "# Para seleccionar unicamente las regiones propias , descartamos Total US para la vista gráfica\n",
    "df_cp_cleaned=df_cp[df_cp.region != 'TotalUS']\n",
    "df_cp_CA=df_cp[df_cp.region == 'California']\n",
    "df_cp_noCA=df_cp[(df_cp.region != 'TotalUS') & (df_cp.region != \"California\")]\n",
    "df_cp_noCA_conventional=df_cp[(df_cp.region != 'TotalUS') & (df_cp.region != \"California\") & (df_cp.type=='conventional')]\n",
    "df_cp_noCA_organic=df_cp[(df_cp.region != 'TotalUS') & (df_cp.region != \"California\") & (df_cp.type=='organic')]\n",
    "df_cp_cleaned_organic=df_cp[(df_cp.region != 'TotalUS') & (df_cp.type=='organic')]\n",
    "df_cp_cleaned_conventional=df_cp[(df_cp.region != 'TotalUS') & (df_cp.type=='conventional')]\n",
    "df_cp_W=df_cp[df_cp.region == 'West']\n",
    "df_cp_W_conventional=df_cp[(df_cp.region == 'West')&(df_cp.type=='conventional')]\n",
    "df_cp_W_organic=df_cp[(df_cp.region == 'West')&(df_cp.type=='organic')]\n",
    "df_cp_CA_conventional=df_cp[(df_cp.region == 'California')&(df_cp.type=='conventional')]\n",
    "df_cp_CA_organic=df_cp[(df_cp.region == 'California')&(df_cp.type=='organic')]"
   ]
  },
  {
   "cell_type": "code",
   "execution_count": null,
   "id": "3ff55f47-b51f-4e69-9694-221fd9a2b492",
   "metadata": {},
   "outputs": [],
   "source": [
    "plt.figure(figsize=(20,200))\n",
    "sns.set_style('whitegrid')\n",
    "sns.violinplot(x='Total Volume',y='region', data=df_cp)\n",
    "plt.xlabel('Total Volume',{'fontsize' : 'large'})\n",
    "plt.ylabel('Region',{'fontsize':'large'})\n",
    "plt.title(\"Gráfico de Violín Total Volume en cada Region\",{'fontsize':20})"
   ]
  },
  {
   "cell_type": "code",
   "execution_count": null,
   "id": "164a7180-3092-41b6-abe1-8fcff0cbd260",
   "metadata": {},
   "outputs": [],
   "source": [
    "plt.figure(figsize=(20,200))\n",
    "sns.set_style('whitegrid')\n",
    "sns.violinplot(x='Total Volume',y='region', data=df_cp_cleaned)\n",
    "plt.xlabel('Total Volume',{'fontsize' : 'large'})\n",
    "plt.ylabel('Region',{'fontsize':'large'})\n",
    "plt.title(\"Gráfico de Violín Total Volume en cada Region excepto TotalUS\",{'fontsize':20})"
   ]
  },
  {
   "cell_type": "code",
   "execution_count": null,
   "id": "871683b5-7370-4325-978d-09b2d6b39552",
   "metadata": {},
   "outputs": [],
   "source": [
    "plt.figure(figsize=(20,200))\n",
    "sns.set_style('whitegrid')\n",
    "sns.violinplot(x='Total Volume',y='region',hue='type', data=df_cp_cleaned,palette=\"ch:r=-.5,l=.75\")\n",
    "plt.xlabel('Total Volume',{'fontsize' : 'large'})\n",
    "plt.ylabel('Region',{'fontsize':'large'})\n",
    "plt.title(\"Gráfico de Violín de Total Volume en cada región excepto TotalUS segun type\",{'fontsize':15})"
   ]
  },
  {
   "cell_type": "code",
   "execution_count": null,
   "id": "985a77e8-2544-4773-9cde-78179c8cda9e",
   "metadata": {},
   "outputs": [],
   "source": [
    "plt.figure(figsize=(13,20))\n",
    "sns.set_style('whitegrid')\n",
    "sns.violinplot(x='Total Volume',y='region', data=df_cp_conventional)\n",
    "plt.xlabel('Total Volume',{'fontsize' : 'large'})\n",
    "plt.ylabel('Region',{'fontsize':'large'})\n",
    "plt.title(\"Total Volume en cada región tipo convencional\",{'fontsize':20})"
   ]
  },
  {
   "cell_type": "code",
   "execution_count": null,
   "id": "9671982e-3cf1-4a6b-ae64-b6e7379f26da",
   "metadata": {},
   "outputs": [],
   "source": [
    "plt.figure(figsize=(13,20))\n",
    "sns.set_style('whitegrid')\n",
    "sns.violinplot(x='Total Volume',y='region', data=df_cp_organic)\n",
    "plt.xlabel('Total Volume',{'fontsize' : 'large'})\n",
    "plt.ylabel('Region',{'fontsize':'large'})\n",
    "plt.title(\"Total Volume en cada región tipo organic\",{'fontsize':20})"
   ]
  },
  {
   "cell_type": "code",
   "execution_count": null,
   "id": "3ab595f6-7da7-434c-94b7-10c3660b7428",
   "metadata": {},
   "outputs": [],
   "source": [
    "plt.figure(figsize=(10,6))\n",
    "sns.set_style('whitegrid')\n",
    "sns.violinplot(x='Total Volume',y='region', data=df_cp_W_conventional)\n",
    "plt.xlabel('Total Volume',{'fontsize' : 'large'})\n",
    "plt.ylabel('Region',{'fontsize':'large'})\n",
    "plt.title(\"Total Volume en West tipo convencional\",{'fontsize':15})"
   ]
  },
  {
   "cell_type": "code",
   "execution_count": null,
   "id": "ca866280-f9ad-4f63-b829-cb9ca9dcf43f",
   "metadata": {},
   "outputs": [],
   "source": [
    "plt.figure(figsize=(10,6))\n",
    "sns.set_style('whitegrid')\n",
    "sns.violinplot(x='Total Volume',y='region', data=df_cp_W_organic)\n",
    "plt.xlabel('Total Volume',{'fontsize' : 'large'})\n",
    "plt.ylabel('Region',{'fontsize':'large'})\n",
    "plt.title(\"Total Volume en West tipo organic\",{'fontsize':20})"
   ]
  },
  {
   "cell_type": "code",
   "execution_count": null,
   "id": "d73586c6-03c4-4b82-8f28-e57420f23e7a",
   "metadata": {},
   "outputs": [],
   "source": [
    "plt.figure(figsize=(10,6))\n",
    "sns.set_style('whitegrid')\n",
    "sns.violinplot(x='Total Volume',y='region', data=df_cp_CA_conventional)\n",
    "plt.xlabel('Total Volume',{'fontsize' : 'large'})\n",
    "plt.ylabel('Region',{'fontsize':'large'})\n",
    "plt.title(\"Total Volume en California tipo convencional\",{'fontsize':15})"
   ]
  },
  {
   "cell_type": "code",
   "execution_count": null,
   "id": "6b7af86b-5762-4b7f-b42a-de1f2ebdfae5",
   "metadata": {},
   "outputs": [],
   "source": [
    "plt.figure(figsize=(10,6))\n",
    "sns.set_style('whitegrid')\n",
    "sns.violinplot(x='Total Volume',y='region', data=df_cp_CA_organic)\n",
    "plt.xlabel('Total Volume',{'fontsize' : 'large'})\n",
    "plt.ylabel('Region',{'fontsize':'large'})\n",
    "plt.title(\"Total Volume en California tipo organic\",{'fontsize':15})"
   ]
  },
  {
   "cell_type": "markdown",
   "id": "a8b096ac",
   "metadata": {},
   "source": [
    "2. **Boxplot Comparativo de Precios entre Años:**\n",
    "   - **Uso de Datos:** Usa las columnas `AveragePrice` y `year`.\n",
    "   - **Esperado:** Genera boxplots para comparar la distribución de precios.\n",
    "     - Utiliza `boxplot` de `seaborn` para crear boxplots que comparen `AveragePrice` entre diferentes años.\n",
    "     - Asegúrate de que cada boxplot represente un año diferente.\n",
    "     - Incluye etiquetas y títulos descriptivos usando `plt.title()`."
   ]
  },
  {
   "cell_type": "code",
   "execution_count": null,
   "id": "8b26d877",
   "metadata": {},
   "outputs": [],
   "source": [
    "import pandas as pd\n",
    "import numpy as np\n",
    "import seaborn as sns\n",
    "import matplotlib.pyplot as plt\n",
    "from statsmodels.tsa.seasonal import seasonal_decompose\n",
    "df = pd.read_csv(\"avocado.csv\")\n",
    "df_cp = df.copy()\n",
    "df_cp['Date'] = pd.to_datetime(df_cp['Date'])\n",
    "\n",
    "# Configurar el tamaño de la figura\n",
    "plt.figure(figsize=(12, 6))\n",
    "\n",
    "# Crear boxplot para comparar la distribución de precios promedio entre años\n",
    "sns.boxplot(data=df_cp, x='year', y='AveragePrice')#,hue='year', palette='Pastel1')\n",
    "\n",
    "# Añadir título y etiquetas a los ejes\n",
    "plt.title('AveragePrice por Año')\n",
    "plt.xlabel('Año')\n",
    "plt.ylabel('Average Price')\n",
    "\n",
    "# Mostrar el gráfico\n",
    "plt.show()"
   ]
  },
  {
   "cell_type": "code",
   "execution_count": null,
   "id": "25c0b0d8-6c6b-45c9-aced-1a67ddb65926",
   "metadata": {},
   "outputs": [],
   "source": [
    "import pandas as pd\n",
    "import numpy as np\n",
    "import seaborn as sns\n",
    "import matplotlib.pyplot as plt\n",
    "from statsmodels.tsa.seasonal import seasonal_decompose\n",
    "df = pd.read_csv(\"avocado.csv\")\n",
    "df_cp = df.copy()\n",
    "df_cp['Date'] = pd.to_datetime(df_cp['Date'])\n",
    "\n",
    "# Configurar el tamaño de la figura\n",
    "plt.figure(figsize=(12, 6))\n",
    "\n",
    "# Crear boxplot para comparar la distribución de precios promedio entre años\n",
    "sns.boxplot(data=df_cp_cleaned, x='year', y='AveragePrice', hue='year', palette='Pastel1')\n",
    "\n",
    "# Añadir título y etiquetas a los ejes\n",
    "plt.title('AveragePrice sin Total US por Año')\n",
    "plt.xlabel('Año')\n",
    "plt.ylabel('Average Price')\n",
    "\n",
    "# Mostrar el gráfico\n",
    "plt.show()"
   ]
  },
  {
   "cell_type": "code",
   "execution_count": null,
   "id": "fa7c1710-6ca3-491d-9d9f-5138689c7c2b",
   "metadata": {},
   "outputs": [],
   "source": [
    "import pandas as pd\n",
    "import numpy as np\n",
    "import seaborn as sns\n",
    "import matplotlib.pyplot as plt\n",
    "from statsmodels.tsa.seasonal import seasonal_decompose\n",
    "df = pd.read_csv(\"avocado.csv\")\n",
    "df_cp = df.copy()\n",
    "df_cp['Date'] = pd.to_datetime(df_cp['Date'])\n",
    "\n",
    "# Configurar el tamaño de la figura\n",
    "plt.figure(figsize=(12, 6))\n",
    "\n",
    "# Crear boxplot para comparar la distribución de precios promedio entre años\n",
    "sns.boxplot(data=df_cp_W, x='year', y='AveragePrice', hue='year', palette='Pastel1')\n",
    "\n",
    "# Añadir título y etiquetas a los ejes\n",
    "plt.title('AveragePrice región West por Año')\n",
    "plt.xlabel('Año')\n",
    "plt.ylabel('Average Price')\n",
    "\n",
    "# Mostrar el gráfico\n",
    "plt.show()"
   ]
  },
  {
   "cell_type": "code",
   "execution_count": null,
   "id": "67a26e54-3dd4-40fc-8c3d-c23406b290ed",
   "metadata": {},
   "outputs": [],
   "source": [
    "import pandas as pd\n",
    "import numpy as np\n",
    "import seaborn as sns\n",
    "import matplotlib.pyplot as plt\n",
    "from statsmodels.tsa.seasonal import seasonal_decompose\n",
    "df = pd.read_csv(\"avocado.csv\")\n",
    "df_cp = df.copy()\n",
    "df_cp['Date'] = pd.to_datetime(df_cp['Date'])\n",
    "\n",
    "# Configurar el tamaño de la figura\n",
    "plt.figure(figsize=(12, 6))\n",
    "\n",
    "# Crear boxplot para comparar la distribución de precios promedio entre años\n",
    "sns.boxplot(data=df_cp_W_conventional, x='year', y='AveragePrice', hue='year', palette='Pastel1')\n",
    "\n",
    "# Añadir título y etiquetas a los ejes\n",
    "plt.title('AveragePrice región West tipo convencional por Año')\n",
    "plt.xlabel('Año')\n",
    "plt.ylabel('Average Price')\n",
    "\n",
    "# Mostrar el gráfico\n",
    "plt.show()"
   ]
  },
  {
   "cell_type": "code",
   "execution_count": null,
   "id": "56988109-1bbf-415e-88ee-7216466701a6",
   "metadata": {},
   "outputs": [],
   "source": [
    "import pandas as pd\n",
    "import numpy as np\n",
    "import seaborn as sns\n",
    "import matplotlib.pyplot as plt\n",
    "from statsmodels.tsa.seasonal import seasonal_decompose\n",
    "df = pd.read_csv(\"avocado.csv\")\n",
    "df_cp = df.copy()\n",
    "df_cp['Date'] = pd.to_datetime(df_cp['Date'])\n",
    "\n",
    "# Configurar el tamaño de la figura\n",
    "plt.figure(figsize=(12, 6))\n",
    "\n",
    "# Crear boxplot para comparar la distribución de precios promedio entre años\n",
    "sns.boxplot(data=df_cp_W_organic, x='year', y='AveragePrice', hue='year', palette='Pastel1')\n",
    "\n",
    "# Añadir título y etiquetas a los ejes\n",
    "plt.title('AveragePrice región West tipo organico por Año')\n",
    "plt.xlabel('Año')\n",
    "plt.ylabel('Average Price')\n",
    "\n",
    "# Mostrar el gráfico\n",
    "plt.show()"
   ]
  },
  {
   "cell_type": "code",
   "execution_count": null,
   "id": "331793dc-05dc-4f9f-bf7b-0b142c3fcfda",
   "metadata": {},
   "outputs": [],
   "source": [
    "sns.boxplot(y=\"Type\", x=\"AveragePrice\", data=data, palette = 'pink')"
   ]
  },
  {
   "cell_type": "markdown",
   "id": "6ffe88c3",
   "metadata": {},
   "source": [
    "3. **Histograma de Volumen Total de Ventas:**\n",
    "   - **Uso de Datos:** Usa la columna `Total Volume`.\n",
    "   - **Esperado:** Crea un histograma para mostrar la distribución del volumen total de ventas.\n",
    "     - Utiliza `hist()` de `matplotlib` para crear el histograma.\n",
    "     - Ajusta el número de bins para una visualización clara usando el parámetro `bins`.\n",
    "     - Añade etiquetas y un título que describa lo que se muestra.\n",
    "\n"
   ]
  },
  {
   "cell_type": "code",
   "execution_count": null,
   "id": "0774a632",
   "metadata": {},
   "outputs": [],
   "source": [
    "import pandas as pd\n",
    "import numpy as np\n",
    "import seaborn as sns\n",
    "import matplotlib.pyplot as plt\n",
    "from statsmodels.tsa.seasonal import seasonal_decompose\n",
    "df = pd.read_csv(\"avocado.csv\")\n",
    "df_cp = df.copy()\n",
    "df_cp['Date'] = pd.to_datetime(df_cp['Date'])\n",
    "plt.figure(figsize=(20,6))\n",
    "plt.xlim(0.0,0.6*10**7)\n",
    "plt.ylim(0.0,2*10**-6)\n",
    "plt.title('Histograma de Ventas Totales', fontweight = \"bold\")\n",
    "plt.hist(df_cp_cleaned['Total Volume'], bins= 200, density=0.5, color='green',alpha=0.7)\n",
    "plt.xlabel('Ventas')\n",
    "plt.ylabel('Frecuencia')\n",
    "plt.show()"
   ]
  },
  {
   "cell_type": "code",
   "execution_count": null,
   "id": "d47416c3-0e76-4ef5-a590-da441209a82e",
   "metadata": {},
   "outputs": [],
   "source": [
    "# plt.title('Histograma de Ventas Totales Tipo Convencional', fontweight = \"bold\")\n",
    "plt.hist(df_cp_conventional['Total Volume'], bins= 200, density=0.5, color='green',alpha=0.7)\n",
    "plt.show()"
   ]
  },
  {
   "cell_type": "code",
   "execution_count": null,
   "id": "6b1a231b-fe6b-43e9-a19b-60ba6987ea0b",
   "metadata": {},
   "outputs": [],
   "source": [
    "plt.title('Histograma de Ventas Totales Tipo organico', fontweight = \"bold\")\n",
    "plt.hist(df_cp_organic['Total Volume'], bins= 150, density=0.5, color='green',alpha=0.7)\n",
    "plt.show()"
   ]
  },
  {
   "cell_type": "markdown",
   "id": "4ccab695-be0a-49d1-b430-d48eebee064b",
   "metadata": {},
   "source": [
    "4. **Gráfico de Barras de Ventas por Tipo de Bolsa:**\n",
    "   - **Uso de Datos:** Utiliza las columnas `Total Bags`, `Small Bags`, `Large Bags` y `XLarge Bags`.\n",
    "   - **Esperado:** Compara las ventas de diferentes tipos de bolsas.\n",
    "     - Suma los volúmenes de ventas por tipo de bolsa utilizando `sum()`.\n",
    "     - Crea un gráfico de barras con `plt.bar()` para mostrar las diferencias en ventas.\n",
    "     - Asegúrate de incluir etiquetas para cada tipo de bolsa.\n"
   ]
  },
  {
   "cell_type": "code",
   "execution_count": null,
   "id": "182f0749",
   "metadata": {},
   "outputs": [],
   "source": [
    "import pandas as pd\n",
    "import numpy as np\n",
    "import seaborn as sns\n",
    "import matplotlib.pyplot as plt\n",
    "from statsmodels.tsa.seasonal import seasonal_decompose\n",
    "df = pd.read_csv(\"avocado.csv\")\n",
    "df_cp = df.copy()\n",
    "df_cp['Date'] = pd.to_datetime(df_cp['Date'])\n",
    "\n",
    "\n",
    "tipos_bolsas=['Total Bags','Small Bags','Large Bags','XLarge Bags']\n",
    "ventas=[df_cp['Total Bags'].sum(),df_cp['Small Bags'].sum(),df_cp['Large Bags'].sum(),df_cp['XLarge Bags'].sum()]\n",
    "\n",
    "plt.title('Grafico de Barras por Tipo de Bolsa', fontweight = \"bold\")\n",
    "plt.xlabel(\"Tipo de Bolsa\")\n",
    "plt.ylabel(\"Ventas\")\n",
    "plt.bar(tipos_bolsas,ventas, color ='green', width=0.4)"
   ]
  },
  {
   "cell_type": "code",
   "execution_count": null,
   "id": "692dce6f-85f9-4d28-8fa0-3a42001254fd",
   "metadata": {},
   "outputs": [],
   "source": [
    "ventas_org=[df_cp_organic['Total Bags'].sum(),df_cp_organic['Small Bags'].sum(),df_cp_organic['Large Bags'].sum(),df_cp_organic['XLarge Bags'].sum()]\n",
    "plt.title('Grafico de Barras por Tipo de Bolsa Organica', fontweight = \"bold\")\n",
    "plt.xlabel(\"Tipo de Bolsa\")\n",
    "plt.ylabel(\"Ventas\")\n",
    "plt.bar(tipos_bolsas,ventas_org, color ='green', width=0.4)"
   ]
  },
  {
   "cell_type": "code",
   "execution_count": null,
   "id": "97cf77a2-2084-49b9-aab7-6c4d9a14fee7",
   "metadata": {},
   "outputs": [],
   "source": [
    "ventas_conv=[df_cp_conventional['Total Bags'].sum(),df_cp_conventional['Small Bags'].sum(),df_cp_conventional['Large Bags'].sum(),df_cp_conventional['XLarge Bags'].sum()]\n",
    "plt.title('Grafico de Barras por Tipo de Bolsa Convencional', fontweight = \"bold\")\n",
    "plt.xlabel(\"Tipo de Bolsa\")\n",
    "plt.ylabel(\"Ventas\")\n",
    "plt.bar(tipos_bolsas,ventas_conv, color ='green', width=0.4)"
   ]
  },
  {
   "cell_type": "markdown",
   "id": "ac61e8bb",
   "metadata": {},
   "source": [
    "5. **Gráfico de Líneas de Precios Promedios por Año:**\n",
    "   - **Uso de Datos:** Utiliza las columnas `AveragePrice` y `year`.\n",
    "   - **Esperado:** Visualiza la tendencia de precios promedio a lo largo de los años.\n",
    "     - Agrupa los datos por `year` y calcula el promedio de `AveragePrice`.\n",
    "     - Usa `plt.plot()` para crear un gráfico de líneas que muestre la evolución de precios.\n",
    "     - Añade un título y etiquetas descriptivas a los ejes usando `plt.title()` y `plt.xlabel()`.\n"
   ]
  },
  {
   "cell_type": "code",
   "execution_count": null,
   "id": "590c6c65",
   "metadata": {},
   "outputs": [],
   "source": [
    "import pandas as pd\n",
    "import numpy as np\n",
    "import seaborn as sns\n",
    "import matplotlib.pyplot as plt\n",
    "#from statsmodels.tsa.seasonal import seasonal_decompose\n",
    "\n",
    "#y=df_cp_cleaned.groupby(['year'])['AveragePrice'].mean()\n",
    "y=df_cp_cleaned_organic.groupby(['year'])['AveragePrice'].mean()\n",
    "x=(df_cp_cleaned_organic['year'].unique())\n",
    "\n",
    "plt.title('Evolución de precios promedio')\n",
    "plt.xlabel('Average Price')\n",
    "plt.ylabel('Frequency')\n",
    "plt.plot(x, y)\n",
    "plt.show()"
   ]
  },
  {
   "cell_type": "code",
   "execution_count": null,
   "id": "17bc9c5b-cc74-4133-8fc5-974cc2cc7ec9",
   "metadata": {},
   "outputs": [],
   "source": [
    "import pandas as pd\n",
    "import numpy as np\n",
    "import seaborn as sns\n",
    "import matplotlib.pyplot as plt\n",
    "#from statsmodels.tsa.seasonal import seasonal_decompose\n",
    "df = pd.read_csv(\"avocado.csv\")\n",
    "df_cp = df.copy()\n",
    "df_cp['Date'] = pd.to_datetime(df_cp['Date'])\n",
    "#y=df_cp_cleaned.groupby(['year'])['AveragePrice'].mean()\n",
    "y=df_cp_cleaned_organic.groupby(['year'])['AveragePrice'].mean()\n",
    "x=(df_cp_cleaned_organic['year'].unique())\n",
    "\n",
    "plt.title('Evolución de precios promedio')\n",
    "plt.xlabel('Average Price')\n",
    "plt.ylabel('Frequency')\n",
    "plt.plot(x, y)\n",
    "plt.show()"
   ]
  },
  {
   "cell_type": "code",
   "execution_count": null,
   "id": "9a5d9a61-78a7-49bc-9a4f-5abd61e2941f",
   "metadata": {},
   "outputs": [],
   "source": [
    "average_prices = df_cp['AveragePrice']\n",
    "\n",
    "plt.figure(figsize=(10, 6))\n",
    "sns.histplot(average_prices, bins=100, kde=True, color='skyblue')\n",
    "plt.title('Histograma de AveragePrice incluyendo TotalUS')\n",
    "plt.xlabel('Average Price')\n",
    "plt.ylabel('Frequency')\n",
    "plt.show()"
   ]
  },
  {
   "cell_type": "code",
   "execution_count": null,
   "id": "857f9911-06eb-488c-b117-eb6c937e1d49",
   "metadata": {},
   "outputs": [],
   "source": [
    "average_price_by_type = df_cp.groupby('type')['AveragePrice'].mean()\n",
    "print(average_price_by_type)\n",
    "\n",
    "plt.figure(figsize=(10, 6))\n",
    "plt.hist(\n",
    "    [df_cp_cleaned[df_cp_cleaned['type'] == 'conventional']['AveragePrice'], \n",
    "     df_cp_cleaned[df_cp_cleaned['type'] == 'organic']['AveragePrice']],\n",
    "    bins=80, label=['Conventional', 'Organic'], alpha=0.7\n",
    ")\n",
    "\n",
    "# Add titles and labels\n",
    "plt.title(\"Histograma de AveragePrice según el tipo ( excluído Total US)\")\n",
    "plt.xlabel(\"Average Price\")\n",
    "plt.ylabel(\"Frequency\")\n",
    "plt.legend(loc='upper right')\n"
   ]
  },
  {
   "cell_type": "code",
   "execution_count": null,
   "id": "858edcb8-7d25-45b1-ae23-b084050e2343",
   "metadata": {},
   "outputs": [],
   "source": []
  }
 ],
 "metadata": {
  "kernelspec": {
   "display_name": "Python 3 (ipykernel)",
   "language": "python",
   "name": "python3"
  },
  "language_info": {
   "codemirror_mode": {
    "name": "ipython",
    "version": 3
   },
   "file_extension": ".py",
   "mimetype": "text/x-python",
   "name": "python",
   "nbconvert_exporter": "python",
   "pygments_lexer": "ipython3",
   "version": "3.10.12"
  }
 },
 "nbformat": 4,
 "nbformat_minor": 5
}
